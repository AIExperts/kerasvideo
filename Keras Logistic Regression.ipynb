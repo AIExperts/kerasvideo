{
 "cells": [
  {
   "cell_type": "code",
   "execution_count": 1,
   "metadata": {
    "collapsed": true
   },
   "outputs": [],
   "source": [
    "from importlib import reload"
   ]
  },
  {
   "cell_type": "code",
   "execution_count": 2,
   "metadata": {
    "collapsed": true
   },
   "outputs": [],
   "source": [
    "import load_data"
   ]
  },
  {
   "cell_type": "markdown",
   "metadata": {},
   "source": [
    "Loading up the load data and exploring the columns"
   ]
  },
  {
   "cell_type": "code",
   "execution_count": 4,
   "metadata": {},
   "outputs": [
    {
     "name": "stderr",
     "output_type": "stream",
     "text": [
      "/opt/conda/lib/python3.6/site-packages/IPython/core/interactiveshell.py:2802: DtypeWarning: Columns (19,55) have mixed types. Specify dtype option on import or set low_memory=False.\n",
      "  if self.run_code(code, result):\n"
     ]
    },
    {
     "name": "stdout",
     "output_type": "stream",
     "text": [
      "Index(['id', 'member_id', 'loan_amnt', 'funded_amnt', 'funded_amnt_inv',\n",
      "       'term', 'int_rate', 'installment', 'grade', 'sub_grade', 'emp_title',\n",
      "       'emp_length', 'home_ownership', 'annual_inc', 'verification_status',\n",
      "       'issue_d', 'loan_status', 'pymnt_plan', 'url', 'desc', 'purpose',\n",
      "       'title', 'zip_code', 'addr_state', 'dti', 'delinq_2yrs',\n",
      "       'earliest_cr_line', 'inq_last_6mths', 'mths_since_last_delinq',\n",
      "       'mths_since_last_record', 'open_acc', 'pub_rec', 'revol_bal',\n",
      "       'revol_util', 'total_acc', 'initial_list_status', 'out_prncp',\n",
      "       'out_prncp_inv', 'total_pymnt', 'total_pymnt_inv', 'total_rec_prncp',\n",
      "       'total_rec_int', 'total_rec_late_fee', 'recoveries',\n",
      "       'collection_recovery_fee', 'last_pymnt_d', 'last_pymnt_amnt',\n",
      "       'next_pymnt_d', 'last_credit_pull_d', 'collections_12_mths_ex_med',\n",
      "       'mths_since_last_major_derog', 'policy_code', 'application_type',\n",
      "       'annual_inc_joint', 'dti_joint', 'verification_status_joint',\n",
      "       'acc_now_delinq', 'tot_coll_amt', 'tot_cur_bal', 'open_acc_6m',\n",
      "       'open_il_6m', 'open_il_12m', 'open_il_24m', 'mths_since_rcnt_il',\n",
      "       'total_bal_il', 'il_util', 'open_rv_12m', 'open_rv_24m', 'max_bal_bc',\n",
      "       'all_util', 'total_rev_hi_lim', 'inq_fi', 'total_cu_tl',\n",
      "       'inq_last_12m'],\n",
      "      dtype='object')\n"
     ]
    }
   ],
   "source": [
    "loans = load_data.read_zipped_csv('./lending-club-loan-data.zip', 'loan.csv')\n",
    "print(loans.columns)"
   ]
  },
  {
   "cell_type": "markdown",
   "metadata": {},
   "source": [
    "Now, create a table model with all available columns."
   ]
  },
  {
   "cell_type": "code",
   "execution_count": 9,
   "metadata": {},
   "outputs": [],
   "source": [
    "import table_model\n",
    "reload(table_model)\n",
    "\n",
    "feature_columns = {\n",
    "    'loan_amnt': table_model.NumericColumn(),\n",
    "    'funded_amnt': table_model.NumericColumn(),\n",
    "    'funded_amnt_inv': table_model.NumericColumn(),\n",
    "    'term': table_model.CategoricalColumn(),\n",
    "    'int_rate': table_model.PercentageColumn(),\n",
    "    'installment': table_model.NumericColumn(),\n",
    "    'grade': table_model.CategoricalColumn(),\n",
    "    'sub_grade': table_model.CategoricalColumn(),\n",
    "    'emp_length': table_model.CategoricalColumn(),\n",
    "    'addr_state': table_model.CategoricalColumn(),\n",
    "    'home_ownership': table_model.CategoricalColumn(),\n",
    "    'annual_inc': table_model.NumericColumn(),\n",
    "    'annual_inc_joint': table_model.NumericColumn(),\n",
    "    'dti': table_model.NumericColumn(),\n",
    "    'dti_joint': table_model.NumericColumn(),\n",
    "    'open_acc': table_model.NumericColumn(),\n",
    "    'total_acc': table_model.NumericColumn(),\n",
    "    'pub_rec': table_model.NumericColumn(),\n",
    "    'tot_coll_amt': table_model.NumericColumn(),\n",
    "    'total_bal_il': table_model.NumericColumn(),\n",
    "    'tot_cur_bal': table_model.NumericColumn(),\n",
    "    'revol_bal': table_model.NumericColumn(),\n",
    "    'revol_util': table_model.PercentageColumn(),\n",
    "    'mths_since_last_delinq': table_model.NumericColumn(),\n",
    "    'mths_since_last_record': table_model.NumericColumn(),\n",
    "    'mths_since_last_major_derog': table_model.NumericColumn(),\n",
    "    'inq_fi': table_model.NumericColumn(),\n",
    "    'inq_last_12m': table_model.NumericColumn(),\n",
    "    'all_util': table_model.NumericColumn(),\n",
    "    'acc_now_delinq': table_model.NumericColumn(),\n",
    "    # and the output\n",
    "    'loan_status': table_model.OutputLabelColumn(),\n",
    "}\n",
    "\n",
    "loan_model = table_model.TableModel(feature_columns, 'loan_status')\n",
    "filtered = loans.loc[loans.loan_status.isin(['Current', 'Default'])]\n",
    "loan_model.fit(filtered)\n",
    "x, y = loan_model.transform(filtered)"
   ]
  },
  {
   "cell_type": "code",
   "execution_count": 12,
   "metadata": {},
   "outputs": [
    {
     "name": "stdout",
     "output_type": "stream",
     "text": [
      "[[-1.44078183 -1.44083977 -1.44067287 ..., -0.07797889 -0.14169542\n",
      "  -0.06851428]\n",
      " [-0.9700067  -0.96998012 -0.96960402 ..., -0.07797889 -0.14169542\n",
      "  -0.06851428]\n",
      " [-0.61692536 -0.6168353  -0.6192466  ..., -0.07797889 -0.14169542\n",
      "  -0.06851428]\n",
      " ..., \n",
      " [-0.26384395 -0.26369056 -0.26300082 ..., -0.07797889 -0.14169542\n",
      "  -0.06851428]\n",
      " [-0.38153774 -0.38140547 -0.380768   ..., -0.07797889 -0.14169542\n",
      "  -0.06851428]\n",
      " [ 0.56001258  0.56031394  0.5613696  ..., -0.07797889 -0.14169542\n",
      "  -0.06851428]] float32\n"
     ]
    }
   ],
   "source": [
    "print(x, x.dtype)"
   ]
  },
  {
   "cell_type": "code",
   "execution_count": 13,
   "metadata": {},
   "outputs": [
    {
     "name": "stdout",
     "output_type": "stream",
     "text": [
      "[0 0 0 ..., 0 0 0] int32\n"
     ]
    }
   ],
   "source": [
    "print(y, y.dtype)"
   ]
  },
  {
   "cell_type": "code",
   "execution_count": 14,
   "metadata": {},
   "outputs": [
    {
     "name": "stdout",
     "output_type": "stream",
     "text": [
      "Epoch 1/4\n",
      "602998/602998 [==============================] - 18s 31us/step - loss: 0.0245\n",
      "Epoch 2/4\n",
      "602998/602998 [==============================] - 17s 29us/step - loss: 0.0141\n",
      "Epoch 3/4\n",
      "602998/602998 [==============================] - 17s 29us/step - loss: 0.0141\n",
      "Epoch 4/4\n",
      "602998/602998 [==============================] - 17s 29us/step - loss: 0.0141\n"
     ]
    },
    {
     "data": {
      "text/plain": [
       "<keras.callbacks.History at 0x7f610b371f98>"
      ]
     },
     "execution_count": 14,
     "metadata": {},
     "output_type": "execute_result"
    }
   ],
   "source": [
    "import keras\n",
    "\n",
    "keras.backend.clear_session()\n",
    "\n",
    "model = keras.models.Sequential()\n",
    "y_one_hot = keras.utils.to_categorical(y)\n",
    "# logistic regression is a one layer model\n",
    "model.add(keras.layers.Dense(y_one_hot.shape[1], activation='sigmoid', input_dim=x.shape[1]))\n",
    "model.compile(optimizer='adam', loss='categorical_crossentropy')\n",
    "model.fit(x, y_one_hot, epochs=4)"
   ]
  },
  {
   "cell_type": "code",
   "execution_count": 15,
   "metadata": {
    "collapsed": true
   },
   "outputs": [],
   "source": [
    "predictions = model.predict_classes(x)"
   ]
  },
  {
   "cell_type": "code",
   "execution_count": 16,
   "metadata": {},
   "outputs": [
    {
     "name": "stdout",
     "output_type": "stream",
     "text": [
      "0.997978434423\n"
     ]
    }
   ],
   "source": [
    "import sklearn.metrics\n",
    "print(sklearn.metrics.accuracy_score(y, predictions))"
   ]
  },
  {
   "cell_type": "markdown",
   "metadata": {},
   "source": [
    "Looks good -- but there is probably a catch here, looking at the balance of classes, far more loans are 'Current' than 'Default', so our model probaly just learned to guess 'Current'."
   ]
  },
  {
   "cell_type": "code",
   "execution_count": 17,
   "metadata": {},
   "outputs": [
    {
     "name": "stdout",
     "output_type": "stream",
     "text": [
      "[0 1] [601779   1219]\n"
     ]
    }
   ],
   "source": [
    "import numpy as np\n",
    "labels, counts = np.unique(y, return_counts=True)\n",
    "print(labels, counts)"
   ]
  },
  {
   "cell_type": "code",
   "execution_count": 18,
   "metadata": {},
   "outputs": [
    {
     "name": "stdout",
     "output_type": "stream",
     "text": [
      "0.997974339417\n"
     ]
    }
   ],
   "source": [
    "print(1 - (counts[1] / counts[0]))"
   ]
  },
  {
   "cell_type": "markdown",
   "metadata": {},
   "source": [
    "So -- these highly imbalanced classes will make it hard to predict 'Default', let's see it that was the case."
   ]
  },
  {
   "cell_type": "code",
   "execution_count": 19,
   "metadata": {},
   "outputs": [
    {
     "name": "stdout",
     "output_type": "stream",
     "text": [
      "(array([0]), array([602998]))\n"
     ]
    }
   ],
   "source": [
    "print(np.unique(predictions, return_counts=True))"
   ]
  },
  {
   "cell_type": "code",
   "execution_count": 20,
   "metadata": {},
   "outputs": [
    {
     "name": "stdout",
     "output_type": "stream",
     "text": [
      "             precision    recall  f1-score   support\n",
      "\n",
      "    Current       1.00      1.00      1.00    601779\n",
      "    Default       0.00      0.00      0.00      1219\n",
      "\n",
      "avg / total       1.00      1.00      1.00    602998\n",
      "\n"
     ]
    },
    {
     "name": "stderr",
     "output_type": "stream",
     "text": [
      "/opt/conda/lib/python3.6/site-packages/sklearn/metrics/classification.py:1135: UndefinedMetricWarning: Precision and F-score are ill-defined and being set to 0.0 in labels with no predicted samples.\n",
      "  'precision', 'predicted', average, warn_for)\n"
     ]
    }
   ],
   "source": [
    "print(sklearn.metrics.classification_report(y, predictions, target_names=loan_model.classes))"
   ]
  },
  {
   "cell_type": "markdown",
   "metadata": {},
   "source": [
    "So -- clearly the model isn't actually very useful, even though it is accurate! \n",
    "Real data often needs to predict relatively rare events."
   ]
  },
  {
   "cell_type": "code",
   "execution_count": 21,
   "metadata": {},
   "outputs": [
    {
     "name": "stdout",
     "output_type": "stream",
     "text": [
      "Epoch 1/16\n",
      "602998/602998 [==============================] - 15s 25us/step - loss: 1.3307\n",
      "Epoch 2/16\n",
      "602998/602998 [==============================] - 16s 27us/step - loss: 1.2721\n",
      "Epoch 3/16\n",
      "602998/602998 [==============================] - 16s 27us/step - loss: 1.2776\n",
      "Epoch 4/16\n",
      "602998/602998 [==============================] - 18s 31us/step - loss: 1.2654\n",
      "Epoch 5/16\n",
      "602998/602998 [==============================] - 16s 26us/step - loss: 1.2714\n",
      "Epoch 6/16\n",
      "602998/602998 [==============================] - 16s 26us/step - loss: 1.2662\n"
     ]
    },
    {
     "data": {
      "text/plain": [
       "KerasLogisticRegressionModel(epochs=16, verbose=1)"
      ]
     },
     "execution_count": 21,
     "metadata": {},
     "output_type": "execute_result"
    }
   ],
   "source": [
    "reload(table_model)\n",
    "\n",
    "logistic_regression_model = table_model.KerasLogisticRegressionModel()\n",
    "logistic_regression_model.fit(x, y)"
   ]
  },
  {
   "cell_type": "code",
   "execution_count": 22,
   "metadata": {
    "collapsed": true
   },
   "outputs": [],
   "source": [
    "balanced_predictions = logistic_regression_model.predict(x)"
   ]
  },
  {
   "cell_type": "code",
   "execution_count": 23,
   "metadata": {},
   "outputs": [
    {
     "name": "stdout",
     "output_type": "stream",
     "text": [
      "0.637788185035\n"
     ]
    }
   ],
   "source": [
    "print(sklearn.metrics.accuracy_score(y, balanced_predictions))"
   ]
  },
  {
   "cell_type": "code",
   "execution_count": 24,
   "metadata": {},
   "outputs": [
    {
     "name": "stdout",
     "output_type": "stream",
     "text": [
      "(array([0, 1]), array([384144, 218854]))\n"
     ]
    }
   ],
   "source": [
    "print(np.unique(balanced_predictions, return_counts=True))"
   ]
  },
  {
   "cell_type": "markdown",
   "metadata": {},
   "source": [
    "So - the accuracy went down, but the model is at leasty trying to predict 'Default'!"
   ]
  },
  {
   "cell_type": "code",
   "execution_count": 25,
   "metadata": {},
   "outputs": [
    {
     "name": "stdout",
     "output_type": "stream",
     "text": [
      "             precision    recall  f1-score   support\n",
      "\n",
      "    Current       1.00      0.64      0.78    601779\n",
      "    Default       0.00      0.68      0.01      1219\n",
      "\n",
      "avg / total       1.00      0.64      0.78    602998\n",
      "\n"
     ]
    }
   ],
   "source": [
    "print(sklearn.metrics.classification_report(y, balanced_predictions, target_names=loan_model.classes))"
   ]
  },
  {
   "cell_type": "markdown",
   "metadata": {},
   "source": [
    "Now - to try a deep learning model."
   ]
  },
  {
   "cell_type": "code",
   "execution_count": 26,
   "metadata": {},
   "outputs": [
    {
     "name": "stdout",
     "output_type": "stream",
     "text": [
      "Epoch 1/16\n",
      "602998/602998 [==============================] - 31s 51us/step - loss: 1.3882\n",
      "Epoch 2/16\n",
      "602998/602998 [==============================] - 31s 51us/step - loss: 1.2841\n",
      "Epoch 3/16\n",
      "602998/602998 [==============================] - 31s 51us/step - loss: 1.2616\n",
      "Epoch 4/16\n",
      "602998/602998 [==============================] - 31s 51us/step - loss: 1.2585\n",
      "Epoch 5/16\n",
      "602998/602998 [==============================] - 30s 51us/step - loss: 1.2332\n",
      "Epoch 6/16\n",
      "602998/602998 [==============================] - 31s 51us/step - loss: 1.2385\n",
      "Epoch 7/16\n",
      "602998/602998 [==============================] - 31s 52us/step - loss: 1.2280\n",
      "Epoch 8/16\n",
      "602998/602998 [==============================] - 30s 51us/step - loss: 1.2177\n",
      "Epoch 9/16\n",
      "602998/602998 [==============================] - 30s 50us/step - loss: 1.2093\n",
      "Epoch 10/16\n",
      "602998/602998 [==============================] - 31s 51us/step - loss: 1.2043\n",
      "Epoch 11/16\n",
      "602998/602998 [==============================] - 30s 50us/step - loss: 1.2105\n",
      "Epoch 12/16\n",
      "602998/602998 [==============================] - 30s 50us/step - loss: 1.2014\n",
      "Epoch 13/16\n",
      "602998/602998 [==============================] - 31s 51us/step - loss: 1.1947\n",
      "Epoch 14/16\n",
      "602998/602998 [==============================] - 30s 51us/step - loss: 1.1880\n",
      "Epoch 15/16\n",
      "602998/602998 [==============================] - 31s 51us/step - loss: 1.1682\n",
      "Epoch 16/16\n",
      "602998/602998 [==============================] - 30s 50us/step - loss: 1.1626\n"
     ]
    },
    {
     "data": {
      "text/plain": [
       "KerasDeepClassifierModel(epochs=16, verbose=1)"
      ]
     },
     "execution_count": 26,
     "metadata": {},
     "output_type": "execute_result"
    }
   ],
   "source": [
    "reload(table_model)\n",
    "deep_model = table_model.KerasDeepClassifierModel()\n",
    "deep_model.fit(x, y)"
   ]
  },
  {
   "cell_type": "code",
   "execution_count": 27,
   "metadata": {
    "collapsed": true
   },
   "outputs": [],
   "source": [
    "deep_predictions = deep_model.predict(x)"
   ]
  },
  {
   "cell_type": "code",
   "execution_count": 28,
   "metadata": {},
   "outputs": [
    {
     "name": "stdout",
     "output_type": "stream",
     "text": [
      "0.763611156256\n"
     ]
    }
   ],
   "source": [
    "print(sklearn.metrics.accuracy_score(y, deep_predictions))"
   ]
  },
  {
   "cell_type": "code",
   "execution_count": 29,
   "metadata": {},
   "outputs": [
    {
     "name": "stdout",
     "output_type": "stream",
     "text": [
      "(array([0, 1]), array([460073, 142925]))\n"
     ]
    }
   ],
   "source": [
    "print(np.unique(deep_predictions, return_counts=True))"
   ]
  },
  {
   "cell_type": "code",
   "execution_count": 30,
   "metadata": {},
   "outputs": [
    {
     "name": "stdout",
     "output_type": "stream",
     "text": [
      "             precision    recall  f1-score   support\n",
      "\n",
      "    Current       1.00      0.76      0.87    601779\n",
      "    Default       0.01      0.66      0.01      1219\n",
      "\n",
      "avg / total       1.00      0.76      0.86    602998\n",
      "\n"
     ]
    }
   ],
   "source": [
    "print(sklearn.metrics.classification_report(y, deep_predictions, target_names=loan_model.classes))"
   ]
  },
  {
   "cell_type": "markdown",
   "metadata": {},
   "source": [
    "And now -- combining both of these techniques in Wide + Deep models."
   ]
  },
  {
   "cell_type": "code",
   "execution_count": 47,
   "metadata": {},
   "outputs": [
    {
     "name": "stdout",
     "output_type": "stream",
     "text": [
      "Epoch 1/16\n",
      "602998/602998 [==============================] - 37s 62us/step - loss: 1.3195\n",
      "Epoch 2/16\n",
      "602998/602998 [==============================] - 36s 60us/step - loss: 1.2838\n",
      "Epoch 3/16\n",
      "602998/602998 [==============================] - 38s 63us/step - loss: 1.2687\n",
      "Epoch 4/16\n",
      "602998/602998 [==============================] - 42s 70us/step - loss: 1.2660\n",
      "Epoch 5/16\n",
      "602998/602998 [==============================] - 46s 76us/step - loss: 1.2621\n",
      "Epoch 6/16\n",
      "602998/602998 [==============================] - 48s 80us/step - loss: 1.2567\n",
      "Epoch 7/16\n",
      "602998/602998 [==============================] - 47s 77us/step - loss: 1.2581\n",
      "Epoch 8/16\n",
      "602998/602998 [==============================] - 49s 81us/step - loss: 1.2555\n",
      "Epoch 9/16\n",
      "602998/602998 [==============================] - 49s 81us/step - loss: 1.2569\n",
      "Epoch 10/16\n",
      "602998/602998 [==============================] - 40s 66us/step - loss: 1.2498\n",
      "Epoch 11/16\n",
      "602998/602998 [==============================] - 34s 56us/step - loss: 1.2475\n",
      "Epoch 12/16\n",
      "602998/602998 [==============================] - 33s 55us/step - loss: 1.2502\n",
      "Epoch 13/16\n",
      "602998/602998 [==============================] - 36s 59us/step - loss: 1.2406\n",
      "Epoch 14/16\n",
      "602998/602998 [==============================] - 37s 61us/step - loss: 1.2425\n",
      "Epoch 15/16\n",
      "602998/602998 [==============================] - 37s 62us/step - loss: 1.2349\n",
      "Epoch 16/16\n",
      "602998/602998 [==============================] - 38s 63us/step - loss: 1.2417\n"
     ]
    },
    {
     "data": {
      "text/plain": [
       "KerasWideAndDeepClassifierModel(epochs=16, verbose=1)"
      ]
     },
     "execution_count": 47,
     "metadata": {},
     "output_type": "execute_result"
    }
   ],
   "source": [
    "reload(table_model)\n",
    "deep_model = table_model.KerasWideAndDeepClassifierModel()\n",
    "deep_model.fit(x, y)"
   ]
  },
  {
   "cell_type": "code",
   "execution_count": 48,
   "metadata": {},
   "outputs": [],
   "source": [
    "wd_predictions = deep_model.predict(x)"
   ]
  },
  {
   "cell_type": "code",
   "execution_count": 49,
   "metadata": {},
   "outputs": [
    {
     "name": "stdout",
     "output_type": "stream",
     "text": [
      "0.608940659836\n"
     ]
    }
   ],
   "source": [
    "print(sklearn.metrics.accuracy_score(y, wd_predictions))"
   ]
  },
  {
   "cell_type": "code",
   "execution_count": 50,
   "metadata": {},
   "outputs": [
    {
     "name": "stdout",
     "output_type": "stream",
     "text": [
      "(array([0, 1]), array([366543, 236455]))\n"
     ]
    }
   ],
   "source": [
    "print(np.unique(wd_predictions, return_counts=True))"
   ]
  },
  {
   "cell_type": "code",
   "execution_count": 51,
   "metadata": {},
   "outputs": [
    {
     "name": "stdout",
     "output_type": "stream",
     "text": [
      "             precision    recall  f1-score   support\n",
      "\n",
      "    Current       1.00      0.61      0.76    601779\n",
      "    Default       0.00      0.77      0.01      1219\n",
      "\n",
      "avg / total       1.00      0.61      0.75    602998\n",
      "\n"
     ]
    }
   ],
   "source": [
    "print(sklearn.metrics.classification_report(y, wd_predictions, target_names=loan_model.classes))"
   ]
  },
  {
   "cell_type": "code",
   "execution_count": null,
   "metadata": {
    "collapsed": true
   },
   "outputs": [],
   "source": []
  }
 ],
 "metadata": {
  "kernelspec": {
   "display_name": "Python 3",
   "language": "python",
   "name": "python3"
  },
  "language_info": {
   "codemirror_mode": {
    "name": "ipython",
    "version": 3
   },
   "file_extension": ".py",
   "mimetype": "text/x-python",
   "name": "python",
   "nbconvert_exporter": "python",
   "pygments_lexer": "ipython3",
   "version": "3.6.3"
  }
 },
 "nbformat": 4,
 "nbformat_minor": 2
}
