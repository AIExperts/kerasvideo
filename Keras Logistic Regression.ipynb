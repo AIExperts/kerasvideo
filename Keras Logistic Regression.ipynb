{
 "cells": [
  {
   "cell_type": "code",
   "execution_count": 1,
   "metadata": {
    "collapsed": true
   },
   "outputs": [],
   "source": [
    "from importlib import reload"
   ]
  },
  {
   "cell_type": "code",
   "execution_count": 2,
   "metadata": {
    "collapsed": true
   },
   "outputs": [],
   "source": [
    "import load_data"
   ]
  },
  {
   "cell_type": "markdown",
   "metadata": {},
   "source": [
    "Loading up the load data and exploring the columns"
   ]
  },
  {
   "cell_type": "code",
   "execution_count": 3,
   "metadata": {},
   "outputs": [
    {
     "name": "stderr",
     "output_type": "stream",
     "text": [
      "/opt/conda/lib/python3.6/site-packages/IPython/core/interactiveshell.py:2802: DtypeWarning: Columns (19,55) have mixed types. Specify dtype option on import or set low_memory=False.\n",
      "  if self.run_code(code, result):\n"
     ]
    },
    {
     "name": "stdout",
     "output_type": "stream",
     "text": [
      "Index(['id', 'member_id', 'loan_amnt', 'funded_amnt', 'funded_amnt_inv',\n",
      "       'term', 'int_rate', 'installment', 'grade', 'sub_grade', 'emp_title',\n",
      "       'emp_length', 'home_ownership', 'annual_inc', 'verification_status',\n",
      "       'issue_d', 'loan_status', 'pymnt_plan', 'url', 'desc', 'purpose',\n",
      "       'title', 'zip_code', 'addr_state', 'dti', 'delinq_2yrs',\n",
      "       'earliest_cr_line', 'inq_last_6mths', 'mths_since_last_delinq',\n",
      "       'mths_since_last_record', 'open_acc', 'pub_rec', 'revol_bal',\n",
      "       'revol_util', 'total_acc', 'initial_list_status', 'out_prncp',\n",
      "       'out_prncp_inv', 'total_pymnt', 'total_pymnt_inv', 'total_rec_prncp',\n",
      "       'total_rec_int', 'total_rec_late_fee', 'recoveries',\n",
      "       'collection_recovery_fee', 'last_pymnt_d', 'last_pymnt_amnt',\n",
      "       'next_pymnt_d', 'last_credit_pull_d', 'collections_12_mths_ex_med',\n",
      "       'mths_since_last_major_derog', 'policy_code', 'application_type',\n",
      "       'annual_inc_joint', 'dti_joint', 'verification_status_joint',\n",
      "       'acc_now_delinq', 'tot_coll_amt', 'tot_cur_bal', 'open_acc_6m',\n",
      "       'open_il_6m', 'open_il_12m', 'open_il_24m', 'mths_since_rcnt_il',\n",
      "       'total_bal_il', 'il_util', 'open_rv_12m', 'open_rv_24m', 'max_bal_bc',\n",
      "       'all_util', 'total_rev_hi_lim', 'inq_fi', 'total_cu_tl',\n",
      "       'inq_last_12m'],\n",
      "      dtype='object')\n"
     ]
    }
   ],
   "source": [
    "loans = load_data.read_zipped_csv('./lending-club-loan-data.zip', 'loan.csv')\n",
    "print(loans.columns)"
   ]
  },
  {
   "cell_type": "markdown",
   "metadata": {},
   "source": [
    "Now, create a table model with all available columns."
   ]
  },
  {
   "cell_type": "code",
   "execution_count": 4,
   "metadata": {},
   "outputs": [
    {
     "name": "stderr",
     "output_type": "stream",
     "text": [
      "Using TensorFlow backend.\n",
      "/opt/conda/lib/python3.6/importlib/_bootstrap.py:219: RuntimeWarning: compiletime version 3.5 of module 'tensorflow.python.framework.fast_tensor_util' does not match runtime version 3.6\n",
      "  return f(*args, **kwds)\n"
     ]
    }
   ],
   "source": [
    "import table_model\n",
    "reload(table_model)\n",
    "\n",
    "feature_columns = {\n",
    "    'loan_amnt': table_model.NumericColumn(),\n",
    "    'funded_amnt': table_model.NumericColumn(),\n",
    "    'funded_amnt_inv': table_model.NumericColumn(),\n",
    "    'term': table_model.CategoricalColumn(),\n",
    "    'int_rate': table_model.PercentageColumn(),\n",
    "    'installment': table_model.NumericColumn(),\n",
    "    'grade': table_model.CategoricalColumn(),\n",
    "    'sub_grade': table_model.CategoricalColumn(),\n",
    "    'emp_length': table_model.CategoricalColumn(),\n",
    "    'addr_state': table_model.CategoricalColumn(),\n",
    "    'home_ownership': table_model.CategoricalColumn(),\n",
    "    'annual_inc': table_model.NumericColumn(),\n",
    "    'annual_inc_joint': table_model.NumericColumn(),\n",
    "    'dti': table_model.NumericColumn(),\n",
    "    'dti_joint': table_model.NumericColumn(),\n",
    "    'open_acc': table_model.NumericColumn(),\n",
    "    'total_acc': table_model.NumericColumn(),\n",
    "    'pub_rec': table_model.NumericColumn(),\n",
    "    'tot_coll_amt': table_model.NumericColumn(),\n",
    "    'total_bal_il': table_model.NumericColumn(),\n",
    "    'tot_cur_bal': table_model.NumericColumn(),\n",
    "    'revol_bal': table_model.NumericColumn(),\n",
    "    'revol_util': table_model.PercentageColumn(),\n",
    "    'mths_since_last_delinq': table_model.NumericColumn(),\n",
    "    'mths_since_last_record': table_model.NumericColumn(),\n",
    "    'mths_since_last_major_derog': table_model.NumericColumn(),\n",
    "    'inq_fi': table_model.NumericColumn(),\n",
    "    'inq_last_12m': table_model.NumericColumn(),\n",
    "    # and the output\n",
    "    'loan_status': table_model.OutputLabelColumn(),\n",
    "}\n",
    "\n",
    "loan_model = table_model.TableModel(feature_columns, 'loan_status')\n",
    "filtered = loans.loc[loans.loan_status.isin(['Current', 'Default'])]\n",
    "loan_model.fit(filtered)\n",
    "x, y = loan_model.transform(filtered)"
   ]
  },
  {
   "cell_type": "code",
   "execution_count": 5,
   "metadata": {},
   "outputs": [
    {
     "name": "stdout",
     "output_type": "stream",
     "text": [
      "[[-1.44078188 -1.44083979 -1.44067283 ..., -0.52961698 -0.08135268\n",
      "  -0.07797889]\n",
      " [-0.97000671 -0.96998009 -0.96960402 ..., -0.52961698 -0.08135268\n",
      "  -0.07797889]\n",
      " [-0.61692533 -0.61683532 -0.6192466  ..., -0.52961698 -0.08135268\n",
      "  -0.07797889]\n",
      " ..., \n",
      " [-0.26384396 -0.26369055 -0.26300081 ..., -0.52961698 -0.08135268\n",
      "  -0.07797889]\n",
      " [-0.38153775 -0.38140548 -0.38076802 ...,  0.42802006 -0.08135268\n",
      "  -0.07797889]\n",
      " [ 0.56001258  0.56031391  0.5613696  ..., -0.52961698 -0.08135268\n",
      "  -0.07797889]]\n"
     ]
    }
   ],
   "source": [
    "print(x)"
   ]
  },
  {
   "cell_type": "code",
   "execution_count": 6,
   "metadata": {},
   "outputs": [
    {
     "name": "stdout",
     "output_type": "stream",
     "text": [
      "[0 0 0 ..., 0 0 0]\n"
     ]
    }
   ],
   "source": [
    "print(y)"
   ]
  },
  {
   "cell_type": "code",
   "execution_count": 7,
   "metadata": {},
   "outputs": [
    {
     "name": "stdout",
     "output_type": "stream",
     "text": [
      "Epoch 1/2\n",
      "602998/602998 [==============================] - 19s 32us/step - loss: 0.0243\n",
      "Epoch 2/2\n",
      "602998/602998 [==============================] - 18s 30us/step - loss: 0.0146\n"
     ]
    },
    {
     "data": {
      "text/plain": [
       "<keras.callbacks.History at 0x7f11cdee1b70>"
      ]
     },
     "execution_count": 7,
     "metadata": {},
     "output_type": "execute_result"
    }
   ],
   "source": [
    "import keras\n",
    "\n",
    "model = keras.models.Sequential()\n",
    "y_one_hot = keras.utils.to_categorical(y)\n",
    "# logistic regression is a one layer model\n",
    "model.add(keras.layers.Dense(y_one_hot.shape[1], activation='sigmoid', input_dim=x.shape[1]))\n",
    "model.compile(optimizer='adam', loss='categorical_crossentropy')\n",
    "model.fit(x, y_one_hot, epochs=2, verbose=1)"
   ]
  },
  {
   "cell_type": "code",
   "execution_count": 8,
   "metadata": {
    "collapsed": true
   },
   "outputs": [],
   "source": [
    "predictions = model.predict_classes(x)"
   ]
  },
  {
   "cell_type": "code",
   "execution_count": 9,
   "metadata": {},
   "outputs": [
    {
     "name": "stdout",
     "output_type": "stream",
     "text": [
      "0.997817571534\n"
     ]
    }
   ],
   "source": [
    "import sklearn.metrics\n",
    "print(sklearn.metrics.accuracy_score(y, predictions))"
   ]
  },
  {
   "cell_type": "markdown",
   "metadata": {},
   "source": [
    "Looks good -- but there is probably a catch here, looking at the balance of classes, far more loans are 'Current' than 'Default', so our model probaly just learned to guess 'Current'."
   ]
  },
  {
   "cell_type": "code",
   "execution_count": 10,
   "metadata": {},
   "outputs": [
    {
     "name": "stdout",
     "output_type": "stream",
     "text": [
      "[0 1] [601779   1219]\n"
     ]
    }
   ],
   "source": [
    "import numpy as np\n",
    "labels, counts = np.unique(y, return_counts=True)\n",
    "print(labels, counts)"
   ]
  },
  {
   "cell_type": "code",
   "execution_count": 11,
   "metadata": {},
   "outputs": [
    {
     "name": "stdout",
     "output_type": "stream",
     "text": [
      "0.997974339417\n"
     ]
    }
   ],
   "source": [
    "print(1 - (counts[1] / counts[0]))"
   ]
  },
  {
   "cell_type": "markdown",
   "metadata": {},
   "source": [
    "So -- these highly imbalanced classes will make it hard to predict 'Default', let's see it that was the case."
   ]
  },
  {
   "cell_type": "code",
   "execution_count": null,
   "metadata": {
    "collapsed": true
   },
   "outputs": [],
   "source": [
    "print(np.unique(predictions, return_counts=True))"
   ]
  },
  {
   "cell_type": "code",
   "execution_count": 12,
   "metadata": {},
   "outputs": [
    {
     "name": "stdout",
     "output_type": "stream",
     "text": [
      "             precision    recall  f1-score   support\n",
      "\n",
      "    Current       1.00      1.00      1.00    601779\n",
      "    Default       0.00      0.00      0.00      1219\n",
      "\n",
      "avg / total       1.00      1.00      1.00    602998\n",
      "\n"
     ]
    }
   ],
   "source": [
    "print(sklearn.metrics.classification_report(y, predictions, target_names=loan_model.classes))"
   ]
  },
  {
   "cell_type": "markdown",
   "metadata": {},
   "source": [
    "So -- clearly the model isn't actually very useful, even though it is accurate! \n",
    "Real data often needs to predict relatively rare events."
   ]
  },
  {
   "cell_type": "code",
   "execution_count": 13,
   "metadata": {},
   "outputs": [
    {
     "name": "stdout",
     "output_type": "stream",
     "text": [
      "Epoch 1/10\n",
      "602998/602998 [==============================] - 18s 29us/step - loss: 1.3324\n",
      "Epoch 2/10\n",
      "602998/602998 [==============================] - 17s 28us/step - loss: 1.2804\n",
      "Epoch 3/10\n",
      "602998/602998 [==============================] - 17s 29us/step - loss: 1.2709\n",
      "Epoch 4/10\n",
      "602998/602998 [==============================] - 19s 32us/step - loss: 1.2608\n",
      "Epoch 5/10\n",
      "602998/602998 [==============================] - 19s 31us/step - loss: 1.2653\n",
      "Epoch 6/10\n",
      "602998/602998 [==============================] - 19s 31us/step - loss: 1.2769\n"
     ]
    },
    {
     "data": {
      "text/plain": [
       "KerasLogisticRegressionModel(verbose=1)"
      ]
     },
     "execution_count": 13,
     "metadata": {},
     "output_type": "execute_result"
    }
   ],
   "source": [
    "reload(table_model)\n",
    "\n",
    "logistic_regression_model = table_model.KerasLogisticRegressionModel()\n",
    "logistic_regression_model.fit(x, y)"
   ]
  },
  {
   "cell_type": "code",
   "execution_count": 14,
   "metadata": {
    "collapsed": true
   },
   "outputs": [],
   "source": [
    "balanced_predictions = logistic_regression_model.predict(x)"
   ]
  },
  {
   "cell_type": "code",
   "execution_count": 15,
   "metadata": {},
   "outputs": [
    {
     "name": "stdout",
     "output_type": "stream",
     "text": [
      "0.616988779399\n"
     ]
    }
   ],
   "source": [
    "print(sklearn.metrics.accuracy_score(y, balanced_predictions))"
   ]
  },
  {
   "cell_type": "code",
   "execution_count": 16,
   "metadata": {},
   "outputs": [
    {
     "name": "stdout",
     "output_type": "stream",
     "text": [
      "(array([0, 1]), array([371568, 231430]))\n"
     ]
    }
   ],
   "source": [
    "print(np.unique(balanced_predictions, return_counts=True))"
   ]
  },
  {
   "cell_type": "markdown",
   "metadata": {},
   "source": [
    "So - the accuracy went down, but the model is at leasty tring to predict 'Default'"
   ]
  },
  {
   "cell_type": "code",
   "execution_count": 17,
   "metadata": {},
   "outputs": [
    {
     "name": "stdout",
     "output_type": "stream",
     "text": [
      "             precision    recall  f1-score   support\n",
      "\n",
      "    Current       1.00      0.62      0.76    601779\n",
      "    Default       0.00      0.69      0.01      1219\n",
      "\n",
      "avg / total       1.00      0.62      0.76    602998\n",
      "\n"
     ]
    }
   ],
   "source": [
    "print(sklearn.metrics.classification_report(y, balanced_predictions, target_names=loan_model.classes))"
   ]
  },
  {
   "cell_type": "markdown",
   "metadata": {},
   "source": [
    "Now - to try a deep learning model"
   ]
  },
  {
   "cell_type": "code",
   "execution_count": null,
   "metadata": {},
   "outputs": [
    {
     "name": "stdout",
     "output_type": "stream",
     "text": [
      "Epoch 1/16\n",
      "602998/602998 [==============================] - 102s 169us/step - loss: 1.4741\n",
      "Epoch 2/16\n",
      "602998/602998 [==============================] - 98s 163us/step - loss: 1.3166\n",
      "Epoch 3/16\n",
      "103104/602998 [====>.........................] - ETA: 1:33 - loss: 1.2291"
     ]
    }
   ],
   "source": [
    "reload(table_model)\n",
    "deep_model = table_model.KerasDeepClassifierModel()\n",
    "deep_model.fit(x, y)"
   ]
  },
  {
   "cell_type": "code",
   "execution_count": 19,
   "metadata": {
    "collapsed": true
   },
   "outputs": [],
   "source": [
    "deep_predictions = deep_model.predict(x)"
   ]
  },
  {
   "cell_type": "code",
   "execution_count": 20,
   "metadata": {},
   "outputs": [
    {
     "name": "stdout",
     "output_type": "stream",
     "text": [
      "0.739778573063\n"
     ]
    }
   ],
   "source": [
    "print(sklearn.metrics.accuracy_score(y, deep_predictions))"
   ]
  },
  {
   "cell_type": "code",
   "execution_count": 21,
   "metadata": {},
   "outputs": [
    {
     "name": "stdout",
     "output_type": "stream",
     "text": [
      "(array([0, 1]), array([445578, 157420]))\n"
     ]
    }
   ],
   "source": [
    "print(np.unique(deep_predictions, return_counts=True))"
   ]
  },
  {
   "cell_type": "code",
   "execution_count": 22,
   "metadata": {},
   "outputs": [
    {
     "name": "stdout",
     "output_type": "stream",
     "text": [
      "             precision    recall  f1-score   support\n",
      "\n",
      "    Current       1.00      0.74      0.85    601779\n",
      "    Default       0.01      0.71      0.01      1219\n",
      "\n",
      "avg / total       1.00      0.74      0.85    602998\n",
      "\n"
     ]
    }
   ],
   "source": [
    "print(sklearn.metrics.classification_report(y, deep_predictions, target_names=loan_model.classes))"
   ]
  },
  {
   "cell_type": "markdown",
   "metadata": {},
   "source": [
    "And now -- combining both of these techniques in Wide + Deep models"
   ]
  },
  {
   "cell_type": "code",
   "execution_count": null,
   "metadata": {
    "collapsed": true
   },
   "outputs": [],
   "source": [
    "reload(table_model)\n",
    "deep_model = table_model.KerasWideAndDeepClassifierModel()\n",
    "deep_model.fit(x, y)"
   ]
  },
  {
   "cell_type": "code",
   "execution_count": 25,
   "metadata": {
    "collapsed": true
   },
   "outputs": [],
   "source": [
    "wd_predictions = grid.predict(x)"
   ]
  },
  {
   "cell_type": "code",
   "execution_count": 26,
   "metadata": {},
   "outputs": [
    {
     "name": "stdout",
     "output_type": "stream",
     "text": [
      "0.997978434423\n"
     ]
    }
   ],
   "source": [
    "print(sklearn.metrics.accuracy_score(y, wd_predictions))"
   ]
  },
  {
   "cell_type": "code",
   "execution_count": 27,
   "metadata": {},
   "outputs": [
    {
     "name": "stdout",
     "output_type": "stream",
     "text": [
      "(array([0]), array([602998]))\n"
     ]
    }
   ],
   "source": [
    "print(np.unique(wd_predictions, return_counts=True))"
   ]
  },
  {
   "cell_type": "code",
   "execution_count": 28,
   "metadata": {},
   "outputs": [
    {
     "name": "stdout",
     "output_type": "stream",
     "text": [
      "             precision    recall  f1-score   support\n",
      "\n",
      "    Current       1.00      1.00      1.00    601779\n",
      "    Default       0.00      0.00      0.00      1219\n",
      "\n",
      "avg / total       1.00      1.00      1.00    602998\n",
      "\n"
     ]
    },
    {
     "name": "stderr",
     "output_type": "stream",
     "text": [
      "/opt/conda/lib/python3.6/site-packages/sklearn/metrics/classification.py:1135: UndefinedMetricWarning: Precision and F-score are ill-defined and being set to 0.0 in labels with no predicted samples.\n",
      "  'precision', 'predicted', average, warn_for)\n"
     ]
    }
   ],
   "source": [
    "print(sklearn.metrics.classification_report(y, wd_predictions, target_names=loan_model.classes))"
   ]
  },
  {
   "cell_type": "code",
   "execution_count": null,
   "metadata": {
    "collapsed": true
   },
   "outputs": [],
   "source": []
  },
  {
   "cell_type": "code",
   "execution_count": null,
   "metadata": {
    "collapsed": true
   },
   "outputs": [],
   "source": []
  }
 ],
 "metadata": {
  "kernelspec": {
   "display_name": "Python 3",
   "language": "python",
   "name": "python3"
  },
  "language_info": {
   "codemirror_mode": {
    "name": "ipython",
    "version": 3
   },
   "file_extension": ".py",
   "mimetype": "text/x-python",
   "name": "python",
   "nbconvert_exporter": "python",
   "pygments_lexer": "ipython3",
   "version": "3.6.3"
  }
 },
 "nbformat": 4,
 "nbformat_minor": 2
}
