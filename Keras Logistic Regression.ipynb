{
 "cells": [
  {
   "cell_type": "code",
   "execution_count": 1,
   "metadata": {
    "collapsed": true
   },
   "outputs": [],
   "source": [
    "from importlib import reload"
   ]
  },
  {
   "cell_type": "code",
   "execution_count": 2,
   "metadata": {
    "collapsed": true
   },
   "outputs": [],
   "source": [
    "import load_data"
   ]
  },
  {
   "cell_type": "markdown",
   "metadata": {},
   "source": [
    "Loading up the load data and exploring the columns"
   ]
  },
  {
   "cell_type": "code",
   "execution_count": 3,
   "metadata": {},
   "outputs": [
    {
     "name": "stderr",
     "output_type": "stream",
     "text": [
      "C:\\Users\\Wball\\Anaconda3\\lib\\site-packages\\IPython\\core\\interactiveshell.py:2802: DtypeWarning: Columns (19,55) have mixed types. Specify dtype option on import or set low_memory=False.\n",
      "  if self.run_code(code, result):\n"
     ]
    },
    {
     "name": "stdout",
     "output_type": "stream",
     "text": [
      "Index(['id', 'member_id', 'loan_amnt', 'funded_amnt', 'funded_amnt_inv',\n",
      "       'term', 'int_rate', 'installment', 'grade', 'sub_grade', 'emp_title',\n",
      "       'emp_length', 'home_ownership', 'annual_inc', 'verification_status',\n",
      "       'issue_d', 'loan_status', 'pymnt_plan', 'url', 'desc', 'purpose',\n",
      "       'title', 'zip_code', 'addr_state', 'dti', 'delinq_2yrs',\n",
      "       'earliest_cr_line', 'inq_last_6mths', 'mths_since_last_delinq',\n",
      "       'mths_since_last_record', 'open_acc', 'pub_rec', 'revol_bal',\n",
      "       'revol_util', 'total_acc', 'initial_list_status', 'out_prncp',\n",
      "       'out_prncp_inv', 'total_pymnt', 'total_pymnt_inv', 'total_rec_prncp',\n",
      "       'total_rec_int', 'total_rec_late_fee', 'recoveries',\n",
      "       'collection_recovery_fee', 'last_pymnt_d', 'last_pymnt_amnt',\n",
      "       'next_pymnt_d', 'last_credit_pull_d', 'collections_12_mths_ex_med',\n",
      "       'mths_since_last_major_derog', 'policy_code', 'application_type',\n",
      "       'annual_inc_joint', 'dti_joint', 'verification_status_joint',\n",
      "       'acc_now_delinq', 'tot_coll_amt', 'tot_cur_bal', 'open_acc_6m',\n",
      "       'open_il_6m', 'open_il_12m', 'open_il_24m', 'mths_since_rcnt_il',\n",
      "       'total_bal_il', 'il_util', 'open_rv_12m', 'open_rv_24m', 'max_bal_bc',\n",
      "       'all_util', 'total_rev_hi_lim', 'inq_fi', 'total_cu_tl',\n",
      "       'inq_last_12m'],\n",
      "      dtype='object')\n"
     ]
    }
   ],
   "source": [
    "loans = load_data.read_zipped_csv('./lending-club-loan-data.zip', 'loan.csv')\n",
    "print(loans.columns)"
   ]
  },
  {
   "cell_type": "markdown",
   "metadata": {},
   "source": [
    "Now, create a table model with all available columns."
   ]
  },
  {
   "cell_type": "code",
   "execution_count": 4,
   "metadata": {},
   "outputs": [
    {
     "name": "stderr",
     "output_type": "stream",
     "text": [
      "Using TensorFlow backend.\n"
     ]
    }
   ],
   "source": [
    "import table_model\n",
    "reload(table_model)\n",
    "\n",
    "feature_columns = {\n",
    "    'loan_amnt': table_model.NumericColumn(),\n",
    "    'funded_amnt': table_model.NumericColumn(),\n",
    "    'funded_amnt_inv': table_model.NumericColumn(),\n",
    "    'term': table_model.CategoricalColumn(),\n",
    "    'int_rate': table_model.PercentageColumn(),\n",
    "    'installment': table_model.NumericColumn(),\n",
    "    'grade': table_model.CategoricalColumn(),\n",
    "    'sub_grade': table_model.CategoricalColumn(),\n",
    "    'emp_length': table_model.CategoricalColumn(),\n",
    "    'addr_state': table_model.CategoricalColumn(),\n",
    "    'home_ownership': table_model.CategoricalColumn(),\n",
    "    'annual_inc': table_model.NumericColumn(),\n",
    "    'annual_inc_joint': table_model.NumericColumn(),\n",
    "    'dti': table_model.NumericColumn(),\n",
    "    'dti_joint': table_model.NumericColumn(),\n",
    "    'open_acc': table_model.NumericColumn(),\n",
    "    'total_acc': table_model.NumericColumn(),\n",
    "    'pub_rec': table_model.NumericColumn(),\n",
    "    'tot_coll_amt': table_model.NumericColumn(),\n",
    "    'total_bal_il': table_model.NumericColumn(),\n",
    "    'tot_cur_bal': table_model.NumericColumn(),\n",
    "    'revol_bal': table_model.NumericColumn(),\n",
    "    'revol_util': table_model.PercentageColumn(),\n",
    "    'mths_since_last_delinq': table_model.NumericColumn(),\n",
    "    'mths_since_last_record': table_model.NumericColumn(),\n",
    "    'mths_since_last_major_derog': table_model.NumericColumn(),\n",
    "    'inq_fi': table_model.NumericColumn(),\n",
    "    'inq_last_12m': table_model.NumericColumn(),\n",
    "    'all_util': table_model.NumericColumn(),\n",
    "    'acc_now_delinq': table_model.NumericColumn(),\n",
    "    # and the output\n",
    "    'loan_status': table_model.OutputLabelColumn(),\n",
    "}\n",
    "\n",
    "loan_model = table_model.TableModel(feature_columns, 'loan_status')\n",
    "filtered = loans.loc[loans.loan_status.isin(['Current', 'Default'])]\n",
    "loan_model.fit(filtered)\n",
    "x, y = loan_model.transform(filtered)"
   ]
  },
  {
   "cell_type": "code",
   "execution_count": 5,
   "metadata": {},
   "outputs": [
    {
     "name": "stdout",
     "output_type": "stream",
     "text": [
      "[[ 0.05882353  0.05882353  0.06158358 ...,  0.11111111  0.          0.        ]\n",
      " [ 0.17647059  0.17647059  0.17888562 ...,  0.11111111  0.          0.        ]\n",
      " [ 0.2647059   0.2647059   0.26612905 ...,  0.11111111  0.          0.        ]\n",
      " ..., \n",
      " [ 0.35294119  0.35294119  0.3548387  ...,  0.11111111  0.          0.        ]\n",
      " [ 0.32352942  0.32352942  0.32551318 ...,  0.11111111  0.          0.        ]\n",
      " [ 0.55882353  0.55882353  0.5601173  ...,  0.11111111  0.          0.        ]] float32\n"
     ]
    }
   ],
   "source": [
    "print(x, x.dtype)"
   ]
  },
  {
   "cell_type": "code",
   "execution_count": 6,
   "metadata": {},
   "outputs": [
    {
     "name": "stdout",
     "output_type": "stream",
     "text": [
      "[0 0 0 ..., 0 0 0] int32\n"
     ]
    }
   ],
   "source": [
    "print(y, y.dtype)"
   ]
  },
  {
   "cell_type": "code",
   "execution_count": 11,
   "metadata": {},
   "outputs": [
    {
     "name": "stdout",
     "output_type": "stream",
     "text": [
      "Epoch 1/4\n",
      "602998/602998 [==============================] - 15s 24us/step - loss: 0.0605\n",
      "Epoch 2/4\n",
      "602998/602998 [==============================] - 15s 24us/step - loss: 0.0148\n",
      "Epoch 3/4\n",
      "602998/602998 [==============================] - 17s 28us/step - loss: 0.0144\n",
      "Epoch 4/4\n",
      "602998/602998 [==============================] - 15s 25us/step - loss: 0.0142\n"
     ]
    },
    {
     "data": {
      "text/plain": [
       "<keras.callbacks.History at 0x14efa985470>"
      ]
     },
     "execution_count": 11,
     "metadata": {},
     "output_type": "execute_result"
    }
   ],
   "source": [
    "import keras\n",
    "import numpy as np\n",
    "\n",
    "keras.backend.clear_session()\n",
    "\n",
    "model = keras.models.Sequential()\n",
    "y_one_hot = keras.utils.to_categorical(y).astype(np.float32)\n",
    "# logistic regression is a one layer model\n",
    "model.add(keras.layers.Dense(y_one_hot.shape[1], activation='sigmoid', input_dim=x.shape[1]))\n",
    "model.compile(optimizer='adam', loss='categorical_crossentropy')\n",
    "model.fit(x, y_one_hot, epochs=4, batch_size=256)"
   ]
  },
  {
   "cell_type": "code",
   "execution_count": 12,
   "metadata": {
    "collapsed": true
   },
   "outputs": [],
   "source": [
    "predictions = model.predict_classes(x)"
   ]
  },
  {
   "cell_type": "code",
   "execution_count": 13,
   "metadata": {},
   "outputs": [
    {
     "name": "stdout",
     "output_type": "stream",
     "text": [
      "0.997978434423\n"
     ]
    }
   ],
   "source": [
    "import sklearn.metrics\n",
    "print(sklearn.metrics.accuracy_score(y, predictions))"
   ]
  },
  {
   "cell_type": "markdown",
   "metadata": {},
   "source": [
    "Looks good -- but there is probably a catch here, looking at the balance of classes, far more loans are 'Current' than 'Default', so our model probaly just learned to guess 'Current'."
   ]
  },
  {
   "cell_type": "code",
   "execution_count": 14,
   "metadata": {},
   "outputs": [
    {
     "name": "stdout",
     "output_type": "stream",
     "text": [
      "[0 1] [601779   1219]\n"
     ]
    }
   ],
   "source": [
    "import numpy as np\n",
    "labels, counts = np.unique(y, return_counts=True)\n",
    "print(labels, counts)"
   ]
  },
  {
   "cell_type": "code",
   "execution_count": 15,
   "metadata": {},
   "outputs": [
    {
     "name": "stdout",
     "output_type": "stream",
     "text": [
      "0.997974339417\n"
     ]
    }
   ],
   "source": [
    "print(1 - (counts[1] / counts[0]))"
   ]
  },
  {
   "cell_type": "markdown",
   "metadata": {},
   "source": [
    "So -- these highly imbalanced classes will make it hard to predict 'Default', let's see it that was the case."
   ]
  },
  {
   "cell_type": "code",
   "execution_count": 16,
   "metadata": {},
   "outputs": [
    {
     "name": "stdout",
     "output_type": "stream",
     "text": [
      "(array([0], dtype=int64), array([602998], dtype=int64))\n"
     ]
    }
   ],
   "source": [
    "print(np.unique(predictions, return_counts=True))"
   ]
  },
  {
   "cell_type": "code",
   "execution_count": 17,
   "metadata": {},
   "outputs": [
    {
     "name": "stdout",
     "output_type": "stream",
     "text": [
      "             precision    recall  f1-score   support\n",
      "\n",
      "    Current       1.00      1.00      1.00    601779\n",
      "    Default       0.00      0.00      0.00      1219\n",
      "\n",
      "avg / total       1.00      1.00      1.00    602998\n",
      "\n"
     ]
    },
    {
     "name": "stderr",
     "output_type": "stream",
     "text": [
      "C:\\Users\\Wball\\Anaconda3\\lib\\site-packages\\sklearn\\metrics\\classification.py:1135: UndefinedMetricWarning: Precision and F-score are ill-defined and being set to 0.0 in labels with no predicted samples.\n",
      "  'precision', 'predicted', average, warn_for)\n"
     ]
    }
   ],
   "source": [
    "print(sklearn.metrics.classification_report(y, predictions, target_names=loan_model.classes))"
   ]
  },
  {
   "cell_type": "markdown",
   "metadata": {},
   "source": [
    "So -- clearly the model isn't actually very useful, even though it is accurate! \n",
    "Real data often needs to predict relatively rare events."
   ]
  },
  {
   "cell_type": "code",
   "execution_count": 19,
   "metadata": {},
   "outputs": [
    {
     "name": "stdout",
     "output_type": "stream",
     "text": [
      "Epoch 1/16\n",
      "602998/602998 [==============================] - 15s 25us/step - loss: 1.3299\n",
      "Epoch 2/16\n",
      "602998/602998 [==============================] - 16s 26us/step - loss: 1.2581\n",
      "Epoch 3/16\n",
      "602998/602998 [==============================] - 16s 27us/step - loss: 1.2419\n",
      "Epoch 4/16\n",
      "602998/602998 [==============================] - 15s 25us/step - loss: 1.2348\n",
      "Epoch 5/16\n",
      "602998/602998 [==============================] - 12s 20us/step - loss: 1.2311\n",
      "Epoch 6/16\n",
      "602998/602998 [==============================] - 14s 24us/step - loss: 1.2288\n",
      "Epoch 7/16\n",
      "602998/602998 [==============================] - 16s 27us/step - loss: 1.2278\n",
      "Epoch 8/16\n",
      "602998/602998 [==============================] - 15s 25us/step - loss: 1.2258\n",
      "Epoch 9/16\n",
      "602998/602998 [==============================] - 16s 26us/step - loss: 1.2253\n",
      "Epoch 10/16\n",
      "602998/602998 [==============================] - 15s 25us/step - loss: 1.2247\n",
      "Epoch 11/16\n",
      "602998/602998 [==============================] - 16s 26us/step - loss: 1.2238\n",
      "Epoch 12/16\n",
      "602998/602998 [==============================] - 15s 26us/step - loss: 1.2218\n",
      "Epoch 13/16\n",
      "602998/602998 [==============================] - 15s 25us/step - loss: 1.2226\n",
      "Epoch 14/16\n",
      "602998/602998 [==============================] - 14s 23us/step - loss: 1.2216\n",
      "Epoch 15/16\n",
      "602998/602998 [==============================] - 15s 26us/step - loss: 1.2208\n",
      "Epoch 16/16\n",
      "602998/602998 [==============================] - 14s 23us/step - loss: 1.2194\n"
     ]
    },
    {
     "data": {
      "text/plain": [
       "KerasLogisticRegressionModel(epochs=16, verbose=1)"
      ]
     },
     "execution_count": 19,
     "metadata": {},
     "output_type": "execute_result"
    }
   ],
   "source": [
    "reload(table_model)\n",
    "\n",
    "logistic_regression_model = table_model.KerasLogisticRegressionModel()\n",
    "logistic_regression_model.fit(x, y)"
   ]
  },
  {
   "cell_type": "code",
   "execution_count": 20,
   "metadata": {
    "collapsed": true
   },
   "outputs": [],
   "source": [
    "balanced_predictions = logistic_regression_model.predict(x)"
   ]
  },
  {
   "cell_type": "code",
   "execution_count": 21,
   "metadata": {},
   "outputs": [
    {
     "name": "stdout",
     "output_type": "stream",
     "text": [
      "0.630786503438\n"
     ]
    }
   ],
   "source": [
    "print(sklearn.metrics.accuracy_score(y, balanced_predictions))"
   ]
  },
  {
   "cell_type": "code",
   "execution_count": 22,
   "metadata": {},
   "outputs": [
    {
     "name": "stdout",
     "output_type": "stream",
     "text": [
      "(array([0, 1], dtype=int64), array([379906, 223092], dtype=int64))\n"
     ]
    }
   ],
   "source": [
    "print(np.unique(balanced_predictions, return_counts=True))"
   ]
  },
  {
   "cell_type": "markdown",
   "metadata": {},
   "source": [
    "So - the accuracy went down, but the model is at leasty trying to predict 'Default'!"
   ]
  },
  {
   "cell_type": "code",
   "execution_count": 23,
   "metadata": {},
   "outputs": [
    {
     "name": "stdout",
     "output_type": "stream",
     "text": [
      "             precision    recall  f1-score   support\n",
      "\n",
      "    Current       1.00      0.63      0.77    601779\n",
      "    Default       0.00      0.69      0.01      1219\n",
      "\n",
      "avg / total       1.00      0.63      0.77    602998\n",
      "\n"
     ]
    }
   ],
   "source": [
    "print(sklearn.metrics.classification_report(y, balanced_predictions, target_names=loan_model.classes))"
   ]
  },
  {
   "cell_type": "markdown",
   "metadata": {},
   "source": [
    "Now - to try a deep learning model."
   ]
  },
  {
   "cell_type": "code",
   "execution_count": 24,
   "metadata": {},
   "outputs": [
    {
     "name": "stdout",
     "output_type": "stream",
     "text": [
      "Epoch 1/16\n",
      "602998/602998 [==============================] - 30s 50us/step - loss: 1.4323\n",
      "Epoch 2/16\n",
      "602998/602998 [==============================] - 30s 50us/step - loss: 1.2423\n",
      "Epoch 3/16\n",
      "602998/602998 [==============================] - 30s 50us/step - loss: 1.1991\n",
      "Epoch 4/16\n",
      "602998/602998 [==============================] - 29s 48us/step - loss: 1.1502\n",
      "Epoch 5/16\n",
      "602998/602998 [==============================] - 31s 52us/step - loss: 1.1038\n",
      "Epoch 6/16\n",
      "602998/602998 [==============================] - 29s 49us/step - loss: 1.0417\n",
      "Epoch 7/16\n",
      "602998/602998 [==============================] - 29s 49us/step - loss: 0.9738\n",
      "Epoch 8/16\n",
      "602998/602998 [==============================] - 29s 49us/step - loss: 0.9265\n",
      "Epoch 9/16\n",
      "602998/602998 [==============================] - 29s 48us/step - loss: 0.8623\n",
      "Epoch 10/16\n",
      "602998/602998 [==============================] - 27s 44us/step - loss: 0.8094\n",
      "Epoch 11/16\n",
      "602998/602998 [==============================] - 28s 46us/step - loss: 0.7589\n",
      "Epoch 12/16\n",
      "602998/602998 [==============================] - 28s 46us/step - loss: 0.7334\n",
      "Epoch 13/16\n",
      "602998/602998 [==============================] - 26s 44us/step - loss: 0.7151\n",
      "Epoch 14/16\n",
      "602998/602998 [==============================] - 27s 45us/step - loss: 0.6644\n",
      "Epoch 15/16\n",
      "602998/602998 [==============================] - 28s 46us/step - loss: 0.6310\n",
      "Epoch 16/16\n",
      "602998/602998 [==============================] - 28s 47us/step - loss: 0.5987\n"
     ]
    },
    {
     "data": {
      "text/plain": [
       "KerasDeepClassifierModel(batch_size=256, epochs=16, verbose=1)"
      ]
     },
     "execution_count": 24,
     "metadata": {},
     "output_type": "execute_result"
    }
   ],
   "source": [
    "reload(table_model)\n",
    "deep_model = table_model.KerasDeepClassifierModel()\n",
    "deep_model.fit(x, y)"
   ]
  },
  {
   "cell_type": "code",
   "execution_count": 25,
   "metadata": {
    "collapsed": true
   },
   "outputs": [],
   "source": [
    "deep_predictions = deep_model.predict(x)"
   ]
  },
  {
   "cell_type": "code",
   "execution_count": 26,
   "metadata": {},
   "outputs": [
    {
     "name": "stdout",
     "output_type": "stream",
     "text": [
      "0.833684357162\n"
     ]
    }
   ],
   "source": [
    "print(sklearn.metrics.accuracy_score(y, deep_predictions))"
   ]
  },
  {
   "cell_type": "code",
   "execution_count": 27,
   "metadata": {},
   "outputs": [
    {
     "name": "stdout",
     "output_type": "stream",
     "text": [
      "(array([0, 1], dtype=int64), array([501567, 101431], dtype=int64))\n"
     ]
    }
   ],
   "source": [
    "print(np.unique(deep_predictions, return_counts=True))"
   ]
  },
  {
   "cell_type": "code",
   "execution_count": 28,
   "metadata": {},
   "outputs": [
    {
     "name": "stdout",
     "output_type": "stream",
     "text": [
      "             precision    recall  f1-score   support\n",
      "\n",
      "    Current       1.00      0.83      0.91    601779\n",
      "    Default       0.01      0.97      0.02      1219\n",
      "\n",
      "avg / total       1.00      0.83      0.91    602998\n",
      "\n"
     ]
    }
   ],
   "source": [
    "print(sklearn.metrics.classification_report(y, deep_predictions, target_names=loan_model.classes))"
   ]
  },
  {
   "cell_type": "markdown",
   "metadata": {},
   "source": [
    "And now -- combining both of these techniques in Wide + Deep models."
   ]
  },
  {
   "cell_type": "code",
   "execution_count": 44,
   "metadata": {},
   "outputs": [
    {
     "name": "stdout",
     "output_type": "stream",
     "text": [
      "Epoch 1/64\n",
      "602998/602998 [==============================] - 19s 32us/step - loss: 1.3389\n",
      "Epoch 2/64\n",
      "602998/602998 [==============================] - 30s 50us/step - loss: 1.2860\n",
      "Epoch 3/64\n",
      "602998/602998 [==============================] - 32s 53us/step - loss: 1.2751\n",
      "Epoch 4/64\n",
      "602998/602998 [==============================] - 25s 41us/step - loss: 1.2565\n",
      "Epoch 5/64\n",
      "602998/602998 [==============================] - 33s 54us/step - loss: 1.2535 0s - loss: 1.255 - ETA: 0s - loss: 1\n",
      "Epoch 6/64\n",
      "602998/602998 [==============================] - 34s 57us/step - loss: 1.2382\n",
      "Epoch 7/64\n",
      "602998/602998 [==============================] - 32s 54us/step - loss: 1.2332\n",
      "Epoch 8/64\n",
      "602998/602998 [==============================] - 31s 51us/step - loss: 1.2337\n",
      "Epoch 9/64\n",
      "602998/602998 [==============================] - 33s 54us/step - loss: 1.2152\n",
      "Epoch 10/64\n",
      "602998/602998 [==============================] - 27s 44us/step - loss: 1.2004\n",
      "Epoch 11/64\n",
      "602998/602998 [==============================] - 18s 30us/step - loss: 1.1878\n",
      "Epoch 12/64\n",
      "602998/602998 [==============================] - 19s 32us/step - loss: 1.1823\n",
      "Epoch 13/64\n",
      "602998/602998 [==============================] - 20s 33us/step - loss: 1.1604\n",
      "Epoch 14/64\n",
      "602998/602998 [==============================] - 22s 36us/step - loss: 1.1401\n",
      "Epoch 15/64\n",
      "602998/602998 [==============================] - 28s 47us/step - loss: 1.1306\n",
      "Epoch 16/64\n",
      "602998/602998 [==============================] - 29s 48us/step - loss: 1.0933\n",
      "Epoch 17/64\n",
      "602998/602998 [==============================] - 29s 48us/step - loss: 1.0715\n",
      "Epoch 18/64\n",
      "602998/602998 [==============================] - 27s 45us/step - loss: 1.0442\n",
      "Epoch 19/64\n",
      "602998/602998 [==============================] - 16s 27us/step - loss: 1.0332\n",
      "Epoch 20/64\n",
      "602998/602998 [==============================] - 22s 37us/step - loss: 1.0129\n",
      "Epoch 21/64\n",
      "602998/602998 [==============================] - 17s 28us/step - loss: 0.9841\n",
      "Epoch 22/64\n",
      "602998/602998 [==============================] - 16s 27us/step - loss: 0.9554\n",
      "Epoch 23/64\n",
      "602998/602998 [==============================] - 19s 32us/step - loss: 0.9442\n",
      "Epoch 24/64\n",
      "602998/602998 [==============================] - 23s 39us/step - loss: 0.9163\n",
      "Epoch 25/64\n",
      "602998/602998 [==============================] - 24s 39us/step - loss: 0.8980\n",
      "Epoch 26/64\n",
      "602998/602998 [==============================] - 24s 40us/step - loss: 0.8704\n",
      "Epoch 27/64\n",
      "602998/602998 [==============================] - 21s 35us/step - loss: 0.8449\n",
      "Epoch 28/64\n",
      "602998/602998 [==============================] - 21s 34us/step - loss: 0.8210\n",
      "Epoch 29/64\n",
      "602998/602998 [==============================] - 28s 47us/step - loss: 0.8162 1s  - ETA: 0s - loss:\n",
      "Epoch 30/64\n",
      "602998/602998 [==============================] - 31s 51us/step - loss: 0.7974\n",
      "Epoch 31/64\n",
      "602998/602998 [==============================] - 29s 48us/step - loss: 0.7812\n",
      "Epoch 32/64\n",
      "602998/602998 [==============================] - 30s 50us/step - loss: 0.7611\n",
      "Epoch 33/64\n",
      "602998/602998 [==============================] - 26s 43us/step - loss: 0.7575\n",
      "Epoch 34/64\n",
      "602998/602998 [==============================] - 32s 53us/step - loss: 0.7491\n",
      "Epoch 35/64\n",
      "602998/602998 [==============================] - 27s 45us/step - loss: 0.7077\n",
      "Epoch 36/64\n",
      "602998/602998 [==============================] - 16s 27us/step - loss: 0.7147\n",
      "Epoch 37/64\n",
      "602998/602998 [==============================] - 16s 26us/step - loss: 0.7093\n"
     ]
    },
    {
     "data": {
      "text/plain": [
       "KerasWideAndDeepClassifierModel(batch_size=512, epochs=64, verbose=1)"
      ]
     },
     "execution_count": 44,
     "metadata": {},
     "output_type": "execute_result"
    }
   ],
   "source": [
    "reload(table_model)\n",
    "deep_model = table_model.KerasWideAndDeepClassifierModel(epochs=64)\n",
    "deep_model.fit(x, y)"
   ]
  },
  {
   "cell_type": "code",
   "execution_count": 45,
   "metadata": {
    "collapsed": true
   },
   "outputs": [],
   "source": [
    "wd_predictions = deep_model.predict(x)"
   ]
  },
  {
   "cell_type": "code",
   "execution_count": 46,
   "metadata": {},
   "outputs": [
    {
     "name": "stdout",
     "output_type": "stream",
     "text": [
      "0.877037734785\n"
     ]
    }
   ],
   "source": [
    "print(sklearn.metrics.accuracy_score(y, wd_predictions))"
   ]
  },
  {
   "cell_type": "code",
   "execution_count": 47,
   "metadata": {},
   "outputs": [
    {
     "name": "stdout",
     "output_type": "stream",
     "text": [
      "(array([0, 1], dtype=int64), array([527975,  75023], dtype=int64))\n"
     ]
    }
   ],
   "source": [
    "print(np.unique(wd_predictions, return_counts=True))"
   ]
  },
  {
   "cell_type": "code",
   "execution_count": 48,
   "metadata": {},
   "outputs": [
    {
     "name": "stdout",
     "output_type": "stream",
     "text": [
      "             precision    recall  f1-score   support\n",
      "\n",
      "    Current       1.00      0.88      0.93    601779\n",
      "    Default       0.01      0.86      0.03      1219\n",
      "\n",
      "avg / total       1.00      0.88      0.93    602998\n",
      "\n"
     ]
    }
   ],
   "source": [
    "print(sklearn.metrics.classification_report(y, wd_predictions, target_names=loan_model.classes))"
   ]
  },
  {
   "cell_type": "code",
   "execution_count": null,
   "metadata": {
    "collapsed": true
   },
   "outputs": [],
   "source": []
  },
  {
   "cell_type": "code",
   "execution_count": null,
   "metadata": {
    "collapsed": true
   },
   "outputs": [],
   "source": []
  }
 ],
 "metadata": {
  "kernelspec": {
   "display_name": "Python 3",
   "language": "python",
   "name": "python3"
  },
  "language_info": {
   "codemirror_mode": {
    "name": "ipython",
    "version": 3
   },
   "file_extension": ".py",
   "mimetype": "text/x-python",
   "name": "python",
   "nbconvert_exporter": "python",
   "pygments_lexer": "ipython3",
   "version": "3.6.3"
  }
 },
 "nbformat": 4,
 "nbformat_minor": 2
}
