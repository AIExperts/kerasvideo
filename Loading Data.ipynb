{
 "cells": [
  {
   "cell_type": "code",
   "execution_count": 1,
   "metadata": {},
   "outputs": [
    {
     "name": "stderr",
     "output_type": "stream",
     "text": [
      "/opt/conda/lib/python3.6/site-packages/IPython/core/interactiveshell.py:2802: DtypeWarning: Columns (19,55) have mixed types. Specify dtype option on import or set low_memory=False.\n",
      "  if self.run_code(code, result):\n"
     ]
    }
   ],
   "source": [
    "import zipfile\n",
    "import pandas as pd\n",
    "\n",
    "def read_zipped_csv(zipfilename, filename):\n",
    "    \"\"\"\n",
    "    Open up a zipfile, and read out csv data from the speficied filename\n",
    "    into a pandas dataframe.\n",
    "\n",
    "    Parameters\n",
    "    ----------\n",
    "    zipfilename:\n",
    "        Source zip file on disk.\n",
    "    filename:\n",
    "        File within the zip containing the data\n",
    "\n",
    "    Returns\n",
    "    -------\n",
    "    A Pandas DataFrame.\n",
    "    \"\"\"\n",
    "    # target path, wrapped in an object\n",
    "    with zipfile.ZipFile(zipfilename) as archive:\n",
    "        with archive.open(filename) as file:\n",
    "            return pd.read_csv(file)\n",
    "\n",
    "loans = read_zipped_csv('./lending-club-loan-data.zip', 'loan.csv')"
   ]
  },
  {
   "cell_type": "code",
   "execution_count": 2,
   "metadata": {
    "collapsed": true
   },
   "outputs": [],
   "source": [
    "import sqlite3\n",
    "import zipfile\n",
    "import pandas as pd\n",
    "\n",
    "def read_zipped_sqlite(zipfilename, filename, query):\n",
    "    \"\"\"\n",
    "    Open up a zipfile, and read out table data from the speficied filename\n",
    "    into a pandas dataframe.\n",
    "\n",
    "    Parameters\n",
    "    ----------\n",
    "    zipfilename:\n",
    "        Source zip file on disk.\n",
    "    filename:\n",
    "        File within the zip containing the data\n",
    "    tablename:\n",
    "        Read this entire table.\n",
    "\n",
    "    Returns\n",
    "    -------\n",
    "    A Pandas DataFrame.\n",
    "    \"\"\"\n",
    "    # target path, wrapped in an object\n",
    "    with zipfile.ZipFile(zipfilename) as archive:\n",
    "        archive.extract(filename)\n",
    "        with sqlite3.connect(filename) as connection:\n",
    "            return pd.read_sql(query, connection)\n",
    "\n",
    "loans = read_zipped_sqlite('./lending-club-loan-data.zip', 'database.sqlite', 'select * from loan')"
   ]
  },
  {
   "cell_type": "code",
   "execution_count": 3,
   "metadata": {},
   "outputs": [
    {
     "data": {
      "text/plain": [
       "Index(['index', 'id', 'member_id', 'loan_amnt', 'funded_amnt',\n",
       "       'funded_amnt_inv', 'term', 'int_rate', 'installment', 'grade',\n",
       "       'sub_grade', 'emp_title', 'emp_length', 'home_ownership', 'annual_inc',\n",
       "       'verification_status', 'issue_d', 'loan_status', 'pymnt_plan', 'url',\n",
       "       'desc', 'purpose', 'title', 'zip_code', 'addr_state', 'dti',\n",
       "       'delinq_2yrs', 'earliest_cr_line', 'inq_last_6mths',\n",
       "       'mths_since_last_delinq', 'mths_since_last_record', 'open_acc',\n",
       "       'pub_rec', 'revol_bal', 'revol_util', 'total_acc',\n",
       "       'initial_list_status', 'out_prncp', 'out_prncp_inv', 'total_pymnt',\n",
       "       'total_pymnt_inv', 'total_rec_prncp', 'total_rec_int',\n",
       "       'total_rec_late_fee', 'recoveries', 'collection_recovery_fee',\n",
       "       'last_pymnt_d', 'last_pymnt_amnt', 'next_pymnt_d', 'last_credit_pull_d',\n",
       "       'collections_12_mths_ex_med', 'mths_since_last_major_derog',\n",
       "       'policy_code', 'application_type', 'annual_inc_joint', 'dti_joint',\n",
       "       'verification_status_joint', 'acc_now_delinq', 'tot_coll_amt',\n",
       "       'tot_cur_bal', 'open_acc_6m', 'open_il_6m', 'open_il_12m',\n",
       "       'open_il_24m', 'mths_since_rcnt_il', 'total_bal_il', 'il_util',\n",
       "       'open_rv_12m', 'open_rv_24m', 'max_bal_bc', 'all_util',\n",
       "       'total_rev_hi_lim', 'inq_fi', 'total_cu_tl', 'inq_last_12m'],\n",
       "      dtype='object')"
      ]
     },
     "execution_count": 3,
     "metadata": {},
     "output_type": "execute_result"
    }
   ],
   "source": [
    "loans.columns"
   ]
  },
  {
   "cell_type": "code",
   "execution_count": 4,
   "metadata": {},
   "outputs": [
    {
     "data": {
      "text/html": [
       "<div>\n",
       "<style>\n",
       "    .dataframe thead tr:only-child th {\n",
       "        text-align: right;\n",
       "    }\n",
       "\n",
       "    .dataframe thead th {\n",
       "        text-align: left;\n",
       "    }\n",
       "\n",
       "    .dataframe tbody tr th {\n",
       "        vertical-align: top;\n",
       "    }\n",
       "</style>\n",
       "<table border=\"1\" class=\"dataframe\">\n",
       "  <thead>\n",
       "    <tr style=\"text-align: right;\">\n",
       "      <th></th>\n",
       "      <th>index</th>\n",
       "      <th>id</th>\n",
       "      <th>member_id</th>\n",
       "      <th>loan_amnt</th>\n",
       "      <th>funded_amnt</th>\n",
       "      <th>funded_amnt_inv</th>\n",
       "      <th>term</th>\n",
       "      <th>int_rate</th>\n",
       "      <th>installment</th>\n",
       "      <th>grade</th>\n",
       "      <th>...</th>\n",
       "      <th>total_bal_il</th>\n",
       "      <th>il_util</th>\n",
       "      <th>open_rv_12m</th>\n",
       "      <th>open_rv_24m</th>\n",
       "      <th>max_bal_bc</th>\n",
       "      <th>all_util</th>\n",
       "      <th>total_rev_hi_lim</th>\n",
       "      <th>inq_fi</th>\n",
       "      <th>total_cu_tl</th>\n",
       "      <th>inq_last_12m</th>\n",
       "    </tr>\n",
       "  </thead>\n",
       "  <tbody>\n",
       "    <tr>\n",
       "      <th>0</th>\n",
       "      <td>0</td>\n",
       "      <td>1077501</td>\n",
       "      <td>1296599.0</td>\n",
       "      <td>5000.0</td>\n",
       "      <td>5000.0</td>\n",
       "      <td>4975.0</td>\n",
       "      <td>36 months</td>\n",
       "      <td>10.65%</td>\n",
       "      <td>162.87</td>\n",
       "      <td>B</td>\n",
       "      <td>...</td>\n",
       "      <td>NaN</td>\n",
       "      <td>NaN</td>\n",
       "      <td>NaN</td>\n",
       "      <td>NaN</td>\n",
       "      <td>NaN</td>\n",
       "      <td>NaN</td>\n",
       "      <td>NaN</td>\n",
       "      <td>NaN</td>\n",
       "      <td>NaN</td>\n",
       "      <td>NaN</td>\n",
       "    </tr>\n",
       "  </tbody>\n",
       "</table>\n",
       "<p>1 rows × 75 columns</p>\n",
       "</div>"
      ],
      "text/plain": [
       "   index       id  member_id  loan_amnt  funded_amnt  funded_amnt_inv  \\\n",
       "0      0  1077501  1296599.0     5000.0       5000.0           4975.0   \n",
       "\n",
       "         term int_rate  installment grade     ...      total_bal_il il_util  \\\n",
       "0   36 months   10.65%       162.87     B     ...               NaN     NaN   \n",
       "\n",
       "  open_rv_12m open_rv_24m  max_bal_bc all_util total_rev_hi_lim inq_fi  \\\n",
       "0         NaN         NaN         NaN      NaN              NaN    NaN   \n",
       "\n",
       "  total_cu_tl inq_last_12m  \n",
       "0         NaN          NaN  \n",
       "\n",
       "[1 rows x 75 columns]"
      ]
     },
     "execution_count": 4,
     "metadata": {},
     "output_type": "execute_result"
    }
   ],
   "source": [
    "loans.iloc[0:1]"
   ]
  },
  {
   "cell_type": "code",
   "execution_count": null,
   "metadata": {
    "collapsed": true
   },
   "outputs": [],
   "source": []
  }
 ],
 "metadata": {
  "kernelspec": {
   "display_name": "Python 3",
   "language": "python",
   "name": "python3"
  },
  "language_info": {
   "codemirror_mode": {
    "name": "ipython",
    "version": 3
   },
   "file_extension": ".py",
   "mimetype": "text/x-python",
   "name": "python",
   "nbconvert_exporter": "python",
   "pygments_lexer": "ipython3",
   "version": "3.6.3"
  }
 },
 "nbformat": 4,
 "nbformat_minor": 2
}
