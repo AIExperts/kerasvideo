{
 "cells": [
  {
   "cell_type": "code",
   "execution_count": 1,
   "metadata": {},
   "outputs": [
    {
     "name": "stderr",
     "output_type": "stream",
     "text": [
      "/opt/conda/lib/python3.6/site-packages/IPython/core/interactiveshell.py:2802: DtypeWarning: Columns (19,55) have mixed types. Specify dtype option on import or set low_memory=False.\n",
      "  if self.run_code(code, result):\n"
     ]
    }
   ],
   "source": [
    "import zipfile\n",
    "import pandas as pd\n",
    "\n",
    "def read_zipped_csv(zipfilename, filename):\n",
    "    \"\"\"\n",
    "    Open up a zipfile, and read out csv data from the speficied filename\n",
    "    into a pandas dataframe.\n",
    "\n",
    "    Parameters\n",
    "    ----------\n",
    "    zipfilename:\n",
    "        Source zip file on disk.\n",
    "    filename:\n",
    "        File within the zip containing the data\n",
    "\n",
    "    Returns\n",
    "    -------\n",
    "    A Pandas DataFrame.\n",
    "    \"\"\"\n",
    "    # target path, wrapped in an object\n",
    "    with zipfile.ZipFile(zipfilename) as archive:\n",
    "        with archive.open(filename) as file:\n",
    "            return pd.read_csv(file)\n",
    "\n",
    "loans = read_zipped_csv('./lending-club-loan-data.zip', 'loan.csv')"
   ]
  },
  {
   "cell_type": "code",
   "execution_count": 2,
   "metadata": {
    "collapsed": true
   },
   "outputs": [],
   "source": [
    "import sqlite3\n",
    "import zipfile\n",
    "import pandas as pd\n",
    "\n",
    "def read_zipped_sqlite(zipfilename, filename, query):\n",
    "    \"\"\"\n",
    "    Open up a zipfile, and read out table data from the speficied filename\n",
    "    into a pandas dataframe.\n",
    "\n",
    "    Parameters\n",
    "    ----------\n",
    "    zipfilename:\n",
    "        Source zip file on disk.\n",
    "    filename:\n",
    "        File within the zip containing the data\n",
    "    tablename:\n",
    "        Read this entire table.\n",
    "\n",
    "    Returns\n",
    "    -------\n",
    "    A Pandas DataFrame.\n",
    "    \"\"\"\n",
    "    # target path, wrapped in an object\n",
    "    with zipfile.ZipFile(zipfilename) as archive:\n",
    "        archive.extract(filename)\n",
    "        with sqlite3.connect(filename) as connection:\n",
    "            return pd.read_sql(query, connection)\n",
    "\n",
    "loans = read_zipped_sqlite('./lending-club-loan-data.zip', 'database.sqlite', 'select * from loan')"
   ]
  },
  {
   "cell_type": "code",
   "execution_count": 10,
   "metadata": {},
   "outputs": [
    {
     "data": {
      "text/plain": [
       "array(['index', 'id', 'member_id', 'loan_amnt', 'funded_amnt',\n",
       "       'funded_amnt_inv', 'term', 'int_rate', 'installment', 'grade',\n",
       "       'sub_grade', 'emp_title', 'emp_length', 'home_ownership',\n",
       "       'annual_inc', 'verification_status', 'issue_d', 'loan_status',\n",
       "       'pymnt_plan', 'url', 'desc', 'purpose', 'title', 'zip_code',\n",
       "       'addr_state', 'dti', 'delinq_2yrs', 'earliest_cr_line',\n",
       "       'inq_last_6mths', 'mths_since_last_delinq',\n",
       "       'mths_since_last_record', 'open_acc', 'pub_rec', 'revol_bal',\n",
       "       'revol_util', 'total_acc', 'initial_list_status', 'out_prncp',\n",
       "       'out_prncp_inv', 'total_pymnt', 'total_pymnt_inv',\n",
       "       'total_rec_prncp', 'total_rec_int', 'total_rec_late_fee',\n",
       "       'recoveries', 'collection_recovery_fee', 'last_pymnt_d',\n",
       "       'last_pymnt_amnt', 'next_pymnt_d', 'last_credit_pull_d',\n",
       "       'collections_12_mths_ex_med', 'mths_since_last_major_derog',\n",
       "       'policy_code', 'application_type', 'annual_inc_joint', 'dti_joint',\n",
       "       'verification_status_joint', 'acc_now_delinq', 'tot_coll_amt',\n",
       "       'tot_cur_bal', 'open_acc_6m', 'open_il_6m', 'open_il_12m',\n",
       "       'open_il_24m', 'mths_since_rcnt_il', 'total_bal_il', 'il_util',\n",
       "       'open_rv_12m', 'open_rv_24m', 'max_bal_bc', 'all_util',\n",
       "       'total_rev_hi_lim', 'inq_fi', 'total_cu_tl', 'inq_last_12m'], dtype=object)"
      ]
     },
     "execution_count": 10,
     "metadata": {},
     "output_type": "execute_result"
    }
   ],
   "source": [
    "loans.columns.values"
   ]
  },
  {
   "cell_type": "code",
   "execution_count": 11,
   "metadata": {},
   "outputs": [
    {
     "data": {
      "text/plain": [
       "array([[0, '1077501', 1296599.0, 5000.0, 5000.0, 4975.0, ' 36 months',\n",
       "        ' 10.65%', 162.87, 'B', 'B2', None, '10+ years', 'RENT', 24000.0,\n",
       "        'Verified', 'Dec-2011', 'Fully Paid', 'n',\n",
       "        'https://www.lendingclub.com/browse/loanDetail.action?loan_id=1077501',\n",
       "        '  Borrower added on 12/22/11 > I need to upgrade my business technologies.<br>',\n",
       "        'credit_card', 'Computer', '860xx', 'AZ', 27.65, 0.0, 'Jan-1985',\n",
       "        1.0, nan, nan, 3.0, 0.0, 13648.0, '83.7%', 9.0, 'f', 0.0, 0.0,\n",
       "        5861.071414249001, 5831.78, 5000.0, 861.07, 0.0, 0.0, 0.0,\n",
       "        'Jan-2015', 171.62, None, 'Jan-2016', 0.0, nan, 1.0, 'INDIVIDUAL',\n",
       "        nan, nan, None, 0.0, nan, nan, nan, nan, nan, nan, nan, nan, nan,\n",
       "        nan, nan, nan, nan, nan, nan, nan, nan]], dtype=object)"
      ]
     },
     "execution_count": 11,
     "metadata": {},
     "output_type": "execute_result"
    }
   ],
   "source": [
    "loans.iloc[0:1].values"
   ]
  },
  {
   "cell_type": "code",
   "execution_count": 12,
   "metadata": {
    "collapsed": true
   },
   "outputs": [],
   "source": [
    "from sklearn.preprocessing import LabelEncoder, OneHotEncoder\n",
    "import numpy as np\n",
    "\n",
    "def transform_categorical(column_of_data):\n",
    "    \"\"\"\n",
    "    Given a column of data (a vector, list or array) from a tabular data source,\n",
    "    transform it to a one-hot encoded matrix suitable for machine learning.\n",
    "    \n",
    "    Parameters\n",
    "    ----------\n",
    "    column_of_data:\n",
    "        Source data column samples to be transformed.\n",
    "        \n",
    "    Returns\n",
    "    -------\n",
    "    A 2d numpy array, with a column for each new dimension, and a row for each\n",
    "    sample passed.\n",
    "    \"\"\"\n",
    "    handle_none = list(map(str, column_of_data))\n",
    "    \n",
    "    labels = LabelEncoder()\n",
    "    encoded_labels = labels.fit_transform(handle_none)\n",
    "    \n",
    "    one_hot = OneHotEncoder()\n",
    "    return one_hot.fit_transform(encoded_labels.reshape(-1, 1)).astype(np.float32)"
   ]
  },
  {
   "cell_type": "code",
   "execution_count": 13,
   "metadata": {},
   "outputs": [
    {
     "data": {
      "text/plain": [
       "'Fully Paid'"
      ]
     },
     "execution_count": 13,
     "metadata": {},
     "output_type": "execute_result"
    }
   ],
   "source": [
    "loans.loan_status[0]"
   ]
  },
  {
   "cell_type": "code",
   "execution_count": 14,
   "metadata": {},
   "outputs": [],
   "source": [
    "statuses = transform_categorical(loans.loan_status)"
   ]
  },
  {
   "cell_type": "code",
   "execution_count": 15,
   "metadata": {},
   "outputs": [
    {
     "data": {
      "text/plain": [
       "matrix([[ 0.,  0.,  0.,  0.,  0.,  1.,  0.,  0.,  0.,  0.,  0.]], dtype=float32)"
      ]
     },
     "execution_count": 15,
     "metadata": {},
     "output_type": "execute_result"
    }
   ],
   "source": [
    "statuses[0].todense()"
   ]
  },
  {
   "cell_type": "code",
   "execution_count": 16,
   "metadata": {
    "collapsed": true
   },
   "outputs": [],
   "source": [
    "from sklearn.preprocessing import StandardScaler\n",
    "import numpy as np\n",
    "\n",
    "def transform_numerical(column_of_data):\n",
    "    \"\"\"\n",
    "    Given a column of data (a vector, list or array) from a tabular data source,\n",
    "    transform it by scaling the values.\n",
    "    \n",
    "    Parameters\n",
    "    ----------\n",
    "    column_of_data:\n",
    "        Source data column samples to be transformed.\n",
    "        \n",
    "    Returns\n",
    "    -------\n",
    "    A 1d numpy array, with a scaled set of values\n",
    "    \"\"\"\n",
    "    as_feature_array = np.array(column_of_data).reshape(-1, 1)\n",
    "    \n",
    "    zeroed = np.nan_to_num(as_feature_array)\n",
    "    \n",
    "    scaled = StandardScaler()\n",
    "    return scaled.fit_transform(zeroed)"
   ]
  },
  {
   "cell_type": "code",
   "execution_count": 17,
   "metadata": {},
   "outputs": [
    {
     "data": {
      "text/plain": [
       "5000.0"
      ]
     },
     "execution_count": 17,
     "metadata": {},
     "output_type": "execute_result"
    }
   ],
   "source": [
    "loans.loan_amnt[0]"
   ]
  },
  {
   "cell_type": "code",
   "execution_count": 18,
   "metadata": {},
   "outputs": [],
   "source": [
    "amounts = transform_numerical(loans.loan_amnt)"
   ]
  },
  {
   "cell_type": "code",
   "execution_count": 19,
   "metadata": {},
   "outputs": [
    {
     "data": {
      "text/plain": [
       "array([-1.15645878])"
      ]
     },
     "execution_count": 19,
     "metadata": {},
     "output_type": "execute_result"
    }
   ],
   "source": [
    "amounts[0]"
   ]
  },
  {
   "cell_type": "code",
   "execution_count": 25,
   "metadata": {},
   "outputs": [
    {
     "data": {
      "text/plain": [
       "array(['10+ years', '< 1 year', '1 year', '3 years', '8 years', '9 years',\n",
       "       '4 years', '5 years', '6 years', '2 years', '7 years', 'n/a', None], dtype=object)"
      ]
     },
     "execution_count": 25,
     "metadata": {},
     "output_type": "execute_result"
    }
   ],
   "source": [
    "loans.emp_length.unique()"
   ]
  },
  {
   "cell_type": "code",
   "execution_count": 32,
   "metadata": {},
   "outputs": [],
   "source": [
    "from sklearn.pipeline import make_pipeline\n",
    "from importlib import reload\n",
    "import ColumnSet\n",
    "reload(ColumnSet)\n",
    "\n",
    "pipe = make_pipeline(\n",
    "    ColumnSet.PercentageColumn(['int_rate', 'revol_util']),\n",
    "    ColumnSet.ClassifierColumnSet(['home_ownership', 'emp_length'], \n",
    "                                  ['loan_amnt', 'int_rate', 'revol_util', 'total_pymnt', 'inq_last_6mths', 'dti',\n",
    "                                  'installment', 'annual_inc'],\n",
    "                                  'loan_status')\n",
    ")\n",
    "\n",
    "\n",
    "(X, Y) = pipe.fit_transform(loans.loc[loans.loan_status.isin(['Current', 'Default'])])"
   ]
  },
  {
   "cell_type": "code",
   "execution_count": 30,
   "metadata": {},
   "outputs": [
    {
     "data": {
      "text/plain": [
       "(603000, 23)"
      ]
     },
     "execution_count": 30,
     "metadata": {},
     "output_type": "execute_result"
    }
   ],
   "source": [
    "X.shape"
   ]
  },
  {
   "cell_type": "code",
   "execution_count": 31,
   "metadata": {},
   "outputs": [
    {
     "data": {
      "text/plain": [
       "(603000, 2)"
      ]
     },
     "execution_count": 31,
     "metadata": {},
     "output_type": "execute_result"
    }
   ],
   "source": [
    "Y.shape"
   ]
  },
  {
   "cell_type": "code",
   "execution_count": null,
   "metadata": {
    "collapsed": true
   },
   "outputs": [],
   "source": []
  },
  {
   "cell_type": "code",
   "execution_count": null,
   "metadata": {
    "collapsed": true
   },
   "outputs": [],
   "source": []
  }
 ],
 "metadata": {
  "kernelspec": {
   "display_name": "Python 3",
   "language": "python",
   "name": "python3"
  },
  "language_info": {
   "codemirror_mode": {
    "name": "ipython",
    "version": 3
   },
   "file_extension": ".py",
   "mimetype": "text/x-python",
   "name": "python",
   "nbconvert_exporter": "python",
   "pygments_lexer": "ipython3",
   "version": "3.6.3"
  }
 },
 "nbformat": 4,
 "nbformat_minor": 2
}
